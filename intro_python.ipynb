{
 "cells": [
  {
   "cell_type": "code",
   "execution_count": 1,
   "metadata": {},
   "outputs": [
    {
     "name": "stdout",
     "output_type": "stream",
     "text": [
      "hello world\n"
     ]
    }
   ],
   "source": [
    "print('hello world')"
   ]
  },
  {
   "cell_type": "code",
   "execution_count": 1,
   "metadata": {},
   "outputs": [
    {
     "name": "stdout",
     "output_type": "stream",
     "text": [
      "Collecting pandas\n",
      "  Obtaining dependency information for pandas from https://files.pythonhosted.org/packages/2d/5e/9213ea10ac473e2437dc2cb17323ddc0999997e2713d6a0b683b10773994/pandas-2.1.1-cp311-cp311-win_amd64.whl.metadata\n",
      "  Downloading pandas-2.1.1-cp311-cp311-win_amd64.whl.metadata (18 kB)\n",
      "Collecting numpy>=1.23.2 (from pandas)\n",
      "  Obtaining dependency information for numpy>=1.23.2 from https://files.pythonhosted.org/packages/93/fd/3f826c6d15d3bdcf65b8031e4835c52b7d9c45add25efa2314b53850e1a2/numpy-1.26.0-cp311-cp311-win_amd64.whl.metadata\n",
      "  Using cached numpy-1.26.0-cp311-cp311-win_amd64.whl.metadata (61 kB)\n",
      "Requirement already satisfied: python-dateutil>=2.8.2 in c:\\users\\56976\\documents\\github\\intro_cloud_limmy\\.venv\\lib\\site-packages (from pandas) (2.8.2)\n",
      "Collecting pytz>=2020.1 (from pandas)\n",
      "  Obtaining dependency information for pytz>=2020.1 from https://files.pythonhosted.org/packages/32/4d/aaf7eff5deb402fd9a24a1449a8119f00d74ae9c2efa79f8ef9994261fc2/pytz-2023.3.post1-py2.py3-none-any.whl.metadata\n",
      "  Downloading pytz-2023.3.post1-py2.py3-none-any.whl.metadata (22 kB)\n",
      "Collecting tzdata>=2022.1 (from pandas)\n",
      "  Using cached tzdata-2023.3-py2.py3-none-any.whl (341 kB)\n",
      "Requirement already satisfied: six>=1.5 in c:\\users\\56976\\documents\\github\\intro_cloud_limmy\\.venv\\lib\\site-packages (from python-dateutil>=2.8.2->pandas) (1.16.0)\n",
      "Downloading pandas-2.1.1-cp311-cp311-win_amd64.whl (10.6 MB)\n",
      "   ---------------------------------------- 0.0/10.6 MB ? eta -:--:--\n",
      "   ---------------------------------------- 0.0/10.6 MB ? eta -:--:--\n",
      "   ---------------------------------------- 0.0/10.6 MB 325.1 kB/s eta 0:00:33\n",
      "   ---------------------------------------- 0.1/10.6 MB 544.7 kB/s eta 0:00:20\n",
      "   ---------------------------------------- 0.1/10.6 MB 656.4 kB/s eta 0:00:17\n",
      "    --------------------------------------- 0.2/10.6 MB 1.1 MB/s eta 0:00:10\n",
      "    --------------------------------------- 0.2/10.6 MB 1.1 MB/s eta 0:00:10\n",
      "   -- ------------------------------------- 0.7/10.6 MB 2.4 MB/s eta 0:00:05\n",
      "   ---- ----------------------------------- 1.2/10.6 MB 3.3 MB/s eta 0:00:03\n",
      "   ----- ---------------------------------- 1.5/10.6 MB 3.8 MB/s eta 0:00:03\n",
      "   ----- ---------------------------------- 1.5/10.6 MB 3.8 MB/s eta 0:00:03\n",
      "   ------- -------------------------------- 1.9/10.6 MB 3.7 MB/s eta 0:00:03\n",
      "   ------- -------------------------------- 2.0/10.6 MB 3.9 MB/s eta 0:00:03\n",
      "   ---------- ----------------------------- 2.9/10.6 MB 4.9 MB/s eta 0:00:02\n",
      "   ------------- -------------------------- 3.6/10.6 MB 5.6 MB/s eta 0:00:02\n",
      "   ------------------- -------------------- 5.3/10.6 MB 7.7 MB/s eta 0:00:01\n",
      "   ---------------------- ----------------- 5.9/10.6 MB 8.4 MB/s eta 0:00:01\n",
      "   ---------------------- ----------------- 5.9/10.6 MB 8.4 MB/s eta 0:00:01\n",
      "   ----------------------- ---------------- 6.2/10.6 MB 7.6 MB/s eta 0:00:01\n",
      "   ----------------------- ---------------- 6.2/10.6 MB 7.6 MB/s eta 0:00:01\n",
      "   ----------------------- ---------------- 6.2/10.6 MB 7.6 MB/s eta 0:00:01\n",
      "   ----------------------- ---------------- 6.4/10.6 MB 6.6 MB/s eta 0:00:01\n",
      "   ------------------------- -------------- 6.8/10.6 MB 6.6 MB/s eta 0:00:01\n",
      "   -------------------------- ------------- 6.9/10.6 MB 6.5 MB/s eta 0:00:01\n",
      "   -------------------------- ------------- 7.2/10.6 MB 6.5 MB/s eta 0:00:01\n",
      "   --------------------------- ------------ 7.4/10.6 MB 6.6 MB/s eta 0:00:01\n",
      "   ------------------------------ --------- 8.2/10.6 MB 6.8 MB/s eta 0:00:01\n",
      "   ------------------------------- -------- 8.5/10.6 MB 6.9 MB/s eta 0:00:01\n",
      "   ---------------------------------- ----- 9.3/10.6 MB 7.2 MB/s eta 0:00:01\n",
      "   ------------------------------------- -- 10.0/10.6 MB 7.5 MB/s eta 0:00:01\n",
      "   -------------------------------------- - 10.4/10.6 MB 8.4 MB/s eta 0:00:01\n",
      "   ---------------------------------------  10.6/10.6 MB 9.1 MB/s eta 0:00:01\n",
      "   ---------------------------------------- 10.6/10.6 MB 8.7 MB/s eta 0:00:00\n",
      "Using cached numpy-1.26.0-cp311-cp311-win_amd64.whl (15.8 MB)\n",
      "Using cached pytz-2023.3.post1-py2.py3-none-any.whl (502 kB)\n",
      "Installing collected packages: pytz, tzdata, numpy, pandas\n",
      "Successfully installed numpy-1.26.0 pandas-2.1.1 pytz-2023.3.post1 tzdata-2023.3\n"
     ]
    }
   ],
   "source": [
    "!pip install pandas"
   ]
  },
  {
   "cell_type": "code",
   "execution_count": 2,
   "metadata": {},
   "outputs": [],
   "source": [
    "import pandas as pd"
   ]
  },
  {
   "cell_type": "code",
   "execution_count": 3,
   "metadata": {},
   "outputs": [
    {
     "name": "stdout",
     "output_type": "stream",
     "text": [
      "The variable has the value: hello world\n"
     ]
    }
   ],
   "source": [
    "x='hello world'\n",
    "print(\"The variable has the value:\", x)"
   ]
  },
  {
   "cell_type": "code",
   "execution_count": 4,
   "metadata": {},
   "outputs": [
    {
     "name": "stdout",
     "output_type": "stream",
     "text": [
      "3\n"
     ]
    }
   ],
   "source": [
    "x=3\n",
    "print(x)"
   ]
  },
  {
   "cell_type": "code",
   "execution_count": 7,
   "metadata": {},
   "outputs": [
    {
     "name": "stdout",
     "output_type": "stream",
     "text": [
      "<class 'bool'>\n",
      "False\n"
     ]
    }
   ],
   "source": [
    "t_boolean = True\n",
    "print(type(t_boolean))\n",
    "compute_boolean = 1 + 1 == 1\n",
    "print(compute_boolean)"
   ]
  },
  {
   "cell_type": "code",
   "execution_count": 8,
   "metadata": {},
   "outputs": [
    {
     "name": "stdout",
     "output_type": "stream",
     "text": [
      "<class 'int'>\n",
      "44\n"
     ]
    }
   ],
   "source": [
    "t_integer = 12\n",
    "print(type(t_integer))\n",
    "compute_integer =40 + 6 - 2\n",
    "print(compute_integer)"
   ]
  },
  {
   "cell_type": "code",
   "execution_count": 11,
   "metadata": {},
   "outputs": [
    {
     "name": "stdout",
     "output_type": "stream",
     "text": [
      "<class 'float'>\n",
      "17.1\n"
     ]
    }
   ],
   "source": [
    "t_float = 12.58\n",
    "print(type(t_float))\n",
    "compute_float = 1.5 + 10.7 + 4.9\n",
    "print(compute_float)"
   ]
  },
  {
   "cell_type": "code",
   "execution_count": 12,
   "metadata": {},
   "outputs": [
    {
     "name": "stdout",
     "output_type": "stream",
     "text": [
      "<class 'str'>\n",
      "4004 Error\n"
     ]
    }
   ],
   "source": [
    "t_string = 'Hello'\n",
    "print(type(t_string))\n",
    "compute_string= '400' + '4' + ' Error'\n",
    "print(compute_string)\n"
   ]
  },
  {
   "cell_type": "code",
   "execution_count": 14,
   "metadata": {},
   "outputs": [
    {
     "name": "stdout",
     "output_type": "stream",
     "text": [
      "This is\n",
      "a multiline string\n",
      "If you need to store\n",
      "long arrays of characters.\n",
      "\n"
     ]
    }
   ],
   "source": [
    "single_quote = 'Hello'\n",
    "doulbe_quote = \"Hello\"\n",
    "multilign_string = '''This is\n",
    "a multiline string\n",
    "If you need to store\n",
    "long arrays of characters.\n",
    "'''\n",
    "print(multilign_string)\n"
   ]
  },
  {
   "cell_type": "code",
   "execution_count": 24,
   "metadata": {},
   "outputs": [
    {
     "name": "stdout",
     "output_type": "stream",
     "text": [
      "('Chapter', 1, 'This\", \"Is, a', 'list', 'of', 'strings', '.')\n"
     ]
    }
   ],
   "source": [
    "t_list = ('Chapter', 1, 'This\", \"Is, a', 'list', 'of', \"strings\", \".\")\n",
    "print(t_list)\n",
    "\n",
    "\n"
   ]
  },
  {
   "cell_type": "code",
   "execution_count": 44,
   "metadata": {},
   "outputs": [
    {
     "name": "stdout",
     "output_type": "stream",
     "text": [
      "Chapter\n"
     ]
    }
   ],
   "source": [
    "print(t_list[0])"
   ]
  },
  {
   "cell_type": "code",
   "execution_count": 32,
   "metadata": {},
   "outputs": [
    {
     "name": "stdout",
     "output_type": "stream",
     "text": [
      "{'Peugeot': '306', 'Mercedes-Benz': 'C220', 'Audi': 'A4'}\n"
     ]
    }
   ],
   "source": [
    "t_dictionary = {'Peugeot':'306', \"Mercedes-Benz\": \"C220\", \"Audi\": \"A4\"}\n",
    "print(t_dictionary)"
   ]
  },
  {
   "cell_type": "code",
   "execution_count": 23,
   "metadata": {},
   "outputs": [
    {
     "name": "stdout",
     "output_type": "stream",
     "text": [
      "[{'state': 'Florida', 'shortname': 'FL', 'Info': {'governor': 'Rick Scott'}, 'Counties': [{'name': 'Dade', 'population': 12345}, {'name': 'Broward', 'population': 40000}, {'name': 'Palm Beach', 'population': 60000}]}, {'state': 'Ohio', 'shortname': 'OH', 'info': {'governor': 'John Kasich'}, 'counties': [{'name': 'Summit', 'population': 1234}, {'name': 'Cuyahoga', 'population': 1337}]}]\n"
     ]
    }
   ],
   "source": [
    "t_nested_dict = [\n",
    "\n",
    "                    {\n",
    "                        \"state\": \"Florida\",\n",
    "                        \"shortname\":\"FL\",\n",
    "                        \"Info\": {\"governor\": \"Rick Scott\"},\n",
    "                        \"Counties\": [ \n",
    "                            {\"name\": \"Dade\", \"population\": 12345}, \n",
    "                            {\"name\": \"Broward\", \"population\": 40000},\n",
    "                            {\"name\": \"Palm Beach\", \"population\": 60000},\n",
    "                        ],\n",
    "                    },\n",
    "                    {\n",
    "                        \"state\": \"Ohio\",\n",
    "                        \"shortname\": \"OH\",\n",
    "                        \"info\": {\"governor\":\"John Kasich\"},\n",
    "                        \"counties\": [\n",
    "                            {\"name\": \"Summit\", \"population\": 1234}, \n",
    "                            {\"name\": \"Cuyahoga\", \"population\": 1337},\n",
    "                        ],\n",
    "                    },\n",
    "                ]\n",
    "print(t_nested_dict)\n"
   ]
  },
  {
   "cell_type": "code",
   "execution_count": 33,
   "metadata": {},
   "outputs": [
    {
     "name": "stdout",
     "output_type": "stream",
     "text": [
      "('This', 'is', 'a', 'tuple.')\n"
     ]
    }
   ],
   "source": [
    "t_tuple = ('This', 'is', 'a', 'tuple.') \n",
    "print(t_tuple)"
   ]
  },
  {
   "cell_type": "code",
   "execution_count": 39,
   "metadata": {},
   "outputs": [
    {
     "name": "stdout",
     "output_type": "stream",
     "text": [
      "       City  Population\n",
      "0     Paris     2161000\n",
      "1      Lyon      513275\n",
      "2  Bordeaux      249712\n"
     ]
    }
   ],
   "source": [
    "data = {\n",
    "    \"City\": ['Paris', 'Lyon', 'Bordeaux'],\n",
    "    \"Population\": [2161000, 513275, 249712]\n",
    "}\n",
    "t_dataframe = pd.DataFrame(data) \n",
    "print(t_dataframe)\n"
   ]
  },
  {
   "cell_type": "code",
   "execution_count": 48,
   "metadata": {},
   "outputs": [
    {
     "data": {
      "text/html": [
       "<div>\n",
       "<style scoped>\n",
       "    .dataframe tbody tr th:only-of-type {\n",
       "        vertical-align: middle;\n",
       "    }\n",
       "\n",
       "    .dataframe tbody tr th {\n",
       "        vertical-align: top;\n",
       "    }\n",
       "\n",
       "    .dataframe thead th {\n",
       "        text-align: right;\n",
       "    }\n",
       "</style>\n",
       "<table border=\"1\" class=\"dataframe\">\n",
       "  <thead>\n",
       "    <tr style=\"text-align: right;\">\n",
       "      <th></th>\n",
       "      <th>City</th>\n",
       "      <th>Population</th>\n",
       "    </tr>\n",
       "  </thead>\n",
       "  <tbody>\n",
       "    <tr>\n",
       "      <th>0</th>\n",
       "      <td>Paris</td>\n",
       "      <td>2161000</td>\n",
       "    </tr>\n",
       "  </tbody>\n",
       "</table>\n",
       "</div>"
      ],
      "text/plain": [
       "    City  Population\n",
       "0  Paris     2161000"
      ]
     },
     "execution_count": 48,
     "metadata": {},
     "output_type": "execute_result"
    }
   ],
   "source": [
    "t_dataframe[t_dataframe['City']=='Paris']"
   ]
  },
  {
   "cell_type": "code",
   "execution_count": 40,
   "metadata": {},
   "outputs": [
    {
     "name": "stdout",
     "output_type": "stream",
     "text": [
      "Infinite\n",
      "Platinium\n",
      "Gold\n",
      "Classic\n"
     ]
    }
   ],
   "source": [
    "cartes = ['Infinite', 'Platinium', 'Gold', 'Classic']\n",
    "for carte in cartes:\n",
    "    print(carte)"
   ]
  },
  {
   "cell_type": "code",
   "execution_count": 42,
   "metadata": {},
   "outputs": [
    {
     "name": "stdout",
     "output_type": "stream",
     "text": [
      "0\n",
      "10\n",
      "20\n",
      "30\n",
      "40\n",
      "50\n",
      "60\n",
      "70\n",
      "80\n",
      "90\n"
     ]
    }
   ],
   "source": [
    "montant = 0\n",
    "plafond = 100\n",
    "while montant < plafond:\n",
    "    print(montant) \n",
    "    montant += 10\n"
   ]
  },
  {
   "cell_type": "code",
   "execution_count": 47,
   "metadata": {},
   "outputs": [
    {
     "name": "stdout",
     "output_type": "stream",
     "text": [
      "Compte créditeur\n"
     ]
    }
   ],
   "source": [
    "montant_compte = 50 \n",
    "if montant_compte < -500:\n",
    "    print(\"Compte en contentieux\")\n",
    "elif montant_compte < 0:\n",
    "    print(\"Compte débiteur\")\n",
    "else: \n",
    "    print(\"Compte créditeur\")\n"
   ]
  },
  {
   "cell_type": "code",
   "execution_count": 54,
   "metadata": {},
   "outputs": [
    {
     "data": {
      "text/plain": [
       "'Compte créditeur'"
      ]
     },
     "execution_count": 54,
     "metadata": {},
     "output_type": "execute_result"
    }
   ],
   "source": [
    "montant_compte = 50 \n",
    "def check_account_statut (montant_compte):\n",
    "    if montant_compte < -500: \n",
    "        statut='Compte en contentieux'\n",
    "    elif montant_compte < 0:\n",
    "        statut=\"Compte débiteur\"\n",
    "    else:\n",
    "        statut='Compte créditeur'\n",
    "    return statut\n",
    "check_account_statut (montant_compte)"
   ]
  },
  {
   "cell_type": "code",
   "execution_count": 1,
   "metadata": {},
   "outputs": [
    {
     "data": {
      "text/plain": [
       "'Credit account'"
      ]
     },
     "execution_count": 1,
     "metadata": {},
     "output_type": "execute_result"
    }
   ],
   "source": [
    "mmc = 50\n",
    "def check(mmc):\n",
    "    if mmc < -500:\n",
    "        status = \"Account in dispute\"\n",
    "    elif mmc < 0:\n",
    "        status = \"Debit account\"\n",
    "    else:\n",
    "        status = \"Credit account\"\n",
    "    return status\n",
    "check(mmc)\n"
   ]
  },
  {
   "cell_type": "code",
   "execution_count": 6,
   "metadata": {},
   "outputs": [],
   "source": [
    "import pandas as pd\n",
    "import os\n",
    "import glob\n"
   ]
  },
  {
   "cell_type": "code",
   "execution_count": 7,
   "metadata": {},
   "outputs": [
    {
     "data": {
      "text/html": [
       "<div>\n",
       "<style scoped>\n",
       "    .dataframe tbody tr th:only-of-type {\n",
       "        vertical-align: middle;\n",
       "    }\n",
       "\n",
       "    .dataframe tbody tr th {\n",
       "        vertical-align: top;\n",
       "    }\n",
       "\n",
       "    .dataframe thead th {\n",
       "        text-align: right;\n",
       "    }\n",
       "</style>\n",
       "<table border=\"1\" class=\"dataframe\">\n",
       "  <thead>\n",
       "    <tr style=\"text-align: right;\">\n",
       "      <th></th>\n",
       "      <th>Ticker</th>\n",
       "      <th>Company</th>\n",
       "      <th>Industry</th>\n",
       "      <th>Market Cap</th>\n",
       "      <th>Share_Price</th>\n",
       "      <th>Description</th>\n",
       "    </tr>\n",
       "  </thead>\n",
       "  <tbody>\n",
       "    <tr>\n",
       "      <th>0</th>\n",
       "      <td>AAPL</td>\n",
       "      <td>Apple Inc.</td>\n",
       "      <td>Technology</td>\n",
       "      <td>Trillion Dollars</td>\n",
       "      <td>150.0</td>\n",
       "      <td>Share price for Apple Inc. in September 2021</td>\n",
       "    </tr>\n",
       "    <tr>\n",
       "      <th>1</th>\n",
       "      <td>MSFT</td>\n",
       "      <td>Microsoft Corporation</td>\n",
       "      <td>Technology</td>\n",
       "      <td>Trillion Dollars</td>\n",
       "      <td>300.0</td>\n",
       "      <td>Share price for Microsoft Corporation in Septe...</td>\n",
       "    </tr>\n",
       "    <tr>\n",
       "      <th>2</th>\n",
       "      <td>AMZN</td>\n",
       "      <td>Amazon.com Inc.</td>\n",
       "      <td>E-commerce</td>\n",
       "      <td>Trillion Dollars</td>\n",
       "      <td>3400.0</td>\n",
       "      <td>Share price for Amazon.com Inc. in September 2021</td>\n",
       "    </tr>\n",
       "    <tr>\n",
       "      <th>3</th>\n",
       "      <td>GOOGL</td>\n",
       "      <td>Alphabet Inc. (Google)</td>\n",
       "      <td>Technology</td>\n",
       "      <td>Trillion Dollars</td>\n",
       "      <td>2700.0</td>\n",
       "      <td>Share price for Alphabet Inc. in September 2021</td>\n",
       "    </tr>\n",
       "    <tr>\n",
       "      <th>4</th>\n",
       "      <td>FB</td>\n",
       "      <td>Meta Platforms, Inc. (Facebook)</td>\n",
       "      <td>Social Media</td>\n",
       "      <td>Trillion Dollars</td>\n",
       "      <td>330.0</td>\n",
       "      <td>Share price for Meta Platforms, Inc. in Septem...</td>\n",
       "    </tr>\n",
       "  </tbody>\n",
       "</table>\n",
       "</div>"
      ],
      "text/plain": [
       "  Ticker                          Company      Industry        Market Cap  \\\n",
       "0   AAPL                       Apple Inc.    Technology  Trillion Dollars   \n",
       "1   MSFT            Microsoft Corporation    Technology  Trillion Dollars   \n",
       "2   AMZN                  Amazon.com Inc.    E-commerce  Trillion Dollars   \n",
       "3  GOOGL           Alphabet Inc. (Google)    Technology  Trillion Dollars   \n",
       "4     FB  Meta Platforms, Inc. (Facebook)  Social Media  Trillion Dollars   \n",
       "\n",
       "   Share_Price                                        Description  \n",
       "0        150.0       Share price for Apple Inc. in September 2021  \n",
       "1        300.0  Share price for Microsoft Corporation in Septe...  \n",
       "2       3400.0  Share price for Amazon.com Inc. in September 2021  \n",
       "3       2700.0    Share price for Alphabet Inc. in September 2021  \n",
       "4        330.0  Share price for Meta Platforms, Inc. in Septem...  "
      ]
     },
     "execution_count": 7,
     "metadata": {},
     "output_type": "execute_result"
    }
   ],
   "source": [
    "nasdaq_top_companies = [\n",
    "    {\n",
    "        \"Ticker\": \"AAPL\",\n",
    "        \"Company\": \"Apple Inc.\",\n",
    "        \"Industry\": \"Technology\",\n",
    "        \"Market Cap\": \"Trillion Dollars\",\n",
    "        \"Share_Price\": 150.00,\n",
    "        \"Description\": \"Share price for Apple Inc. in September 2021\"\n",
    "    },\n",
    "    {\n",
    "        \"Ticker\": \"MSFT\",\n",
    "        \"Company\": \"Microsoft Corporation\",\n",
    "        \"Industry\": \"Technology\",\n",
    "        \"Market Cap\": \"Trillion Dollars\",\n",
    "        \"Share_Price\": 300.00,\n",
    "        \"Description\": \"Share price for Microsoft Corporation in September 2021\"\n",
    "    },\n",
    "    {\n",
    "        \"Ticker\": \"AMZN\",\n",
    "        \"Company\": \"Amazon.com Inc.\",\n",
    "        \"Industry\": \"E-commerce\",\n",
    "        \"Market Cap\": \"Trillion Dollars\",\n",
    "        \"Share_Price\": 3400.00,\n",
    "        \"Description\": \"Share price for Amazon.com Inc. in September 2021\"\n",
    "    },\n",
    "    {\n",
    "        \"Ticker\": \"GOOGL\",\n",
    "        \"Company\": \"Alphabet Inc. (Google)\",\n",
    "        \"Industry\": \"Technology\",\n",
    "        \"Market Cap\": \"Trillion Dollars\",\n",
    "        \"Share_Price\": 2700.00,\n",
    "        \"Description\": \"Share price for Alphabet Inc. in September 2021\"\n",
    "    },\n",
    "    {\n",
    "        \"Ticker\": \"FB\",\n",
    "        \"Company\": \"Meta Platforms, Inc. (Facebook)\",\n",
    "        \"Industry\": \"Social Media\",\n",
    "        \"Market Cap\": \"Trillion Dollars\",\n",
    "        \"Share_Price\": 330.00,\n",
    "        \"Description\": \"Share price for Meta Platforms, Inc. in September 2021\"\n",
    "    }\n",
    "]\n",
    "# Load dict to DataFrame\n",
    "df_nasdaq=pd.DataFrame(nasdaq_top_companies)\n",
    "df_nasdaq.head()"
   ]
  },
  {
   "cell_type": "code",
   "execution_count": 8,
   "metadata": {},
   "outputs": [],
   "source": [
    "cac40_data = [\n",
    "    {\n",
    "        \"Ticker\": \"AC\",\n",
    "        \"Company\": \"Accor\",\n",
    "        \"Share_Price\": 35.60\n",
    "    },\n",
    "    {\n",
    "        \"Ticker\": \"AI\",\n",
    "        \"Company\": \"Air Liquide\",\n",
    "        \"Share_Price\": 147.80\n",
    "    },\n",
    "    {\n",
    "        \"Ticker\": \"MT\",\n",
    "        \"Company\": \"ArcelorMittal\",\n",
    "        \"Share_Price\": 28.90\n",
    "    },\n",
    "    {\n",
    "        \"Ticker\": \"BNP\",\n",
    "        \"Company\": \"BNP Paribas\",\n",
    "        \"Share_Price\": 53.20\n",
    "    },\n",
    "    {\n",
    "        \"Ticker\": \"CAP\",\n",
    "        \"Company\": \"Capgemini\",\n",
    "        \"Share_Price\": 140.45\n",
    "    },\n",
    "]\n",
    "# Load dict to DataFrame\n",
    "cac40_data=pd.DataFrame(cac40_data)\n"
   ]
  },
  {
   "cell_type": "code",
   "execution_count": 9,
   "metadata": {},
   "outputs": [
    {
     "ename": "FileExistsError",
     "evalue": "[WinError 183] 当文件已存在时，无法创建该文件。: './MARKET_DATA/'",
     "output_type": "error",
     "traceback": [
      "\u001b[1;31m---------------------------------------------------------------------------\u001b[0m",
      "\u001b[1;31mFileExistsError\u001b[0m                           Traceback (most recent call last)",
      "\u001b[1;32mUntitled-1.ipynb Cell 26\u001b[0m line \u001b[0;36m1\n\u001b[1;32m----> <a href='vscode-notebook-cell:Untitled-1.ipynb?jupyter-notebook#X33sdW50aXRsZWQ%3D?line=0'>1</a>\u001b[0m os\u001b[39m.\u001b[39;49mmkdir(\u001b[39mr\u001b[39;49m\u001b[39m'\u001b[39;49m\u001b[39m./MARKET_DATA/\u001b[39;49m\u001b[39m'\u001b[39;49m)\n",
      "\u001b[1;31mFileExistsError\u001b[0m: [WinError 183] 当文件已存在时，无法创建该文件。: './MARKET_DATA/'"
     ]
    }
   ],
   "source": [
    "os.mkdir(r'./MARKET_DATA/')\n"
   ]
  },
  {
   "cell_type": "code",
   "execution_count": 10,
   "metadata": {},
   "outputs": [],
   "source": [
    "def CreateCsvFile(df, PrefixName: str):\n",
    "    for ticker in df['Ticker']:\n",
    "        pathName = r'./MARKET_DATA/'+ str(PrefixName) + str(ticker) + '.csv'\n",
    "        df[df['Ticker']==ticker].to_csv(pathName, index=False)\n",
    "    return None"
   ]
  },
  {
   "cell_type": "code",
   "execution_count": 2,
   "metadata": {},
   "outputs": [],
   "source": [
    "def CreateCsvFile(df,PrefixName:str):\n",
    "    for line, ticker in zip(df['Ticker'], df['Ticker']):\n",
    "        pathName = r'./MARKET_DATA/' + str(PrefixName) +str(ticker) + '.csv'\n",
    "        df[df['Ticker']==line].to_csv(pathName,index=False)\n",
    "    return None"
   ]
  },
  {
   "cell_type": "code",
   "execution_count": null,
   "metadata": {},
   "outputs": [],
   "source": [
    "def CreateCsvFile(df, PrefixName:str):\n",
    "    for line, ticker in zip(df['Ticker'],df['Ticker']):\n",
    "        pathName = r'./MARKET_DATA/'+str(PrefixName) + str(Ticker) + '.csv'\n",
    "        df[df['Ticker']==line].to_csv(pathName,index=False)\n",
    "    return None"
   ]
  },
  {
   "cell_type": "code",
   "execution_count": 11,
   "metadata": {},
   "outputs": [],
   "source": [
    "CreateCsvFile(df_nasdaq, 'NASDAQ_')\n",
    "CreateCsvFile(cac40_data, 'CAC40_')\n",
    "\n"
   ]
  },
  {
   "cell_type": "code",
   "execution_count": 13,
   "metadata": {},
   "outputs": [],
   "source": [
    "# Assign the folder to parse\n",
    "pathFolder = r'.\\MARKET_DATA'\n",
    "# Parse the folder\n",
    "walkFolder = [path[0] for path in os.walk (pathFolder)]\n",
    "# Initialize list\n",
    "listOfFile = []\n",
    "# Loop on the folder\n",
    "for folder in walkFolder:\n",
    "    # Assign folder path\n",
    "    folderName = os.path.basename(folder)\n",
    "    # Assign folder path joined to a file type searched\n",
    "    files = os.path.join(folder, 'NASDAQ_*.csv')\n",
    "    # Store the file path matching the file type searched\n",
    "    listOfFile = glob.glob(files)\n"
   ]
  },
  {
   "cell_type": "code",
   "execution_count": 14,
   "metadata": {},
   "outputs": [
    {
     "data": {
      "text/plain": [
       "['.\\\\MARKET_DATA\\\\NASDAQ_AAPL.csv',\n",
       " '.\\\\MARKET_DATA\\\\NASDAQ_AMZN.csv',\n",
       " '.\\\\MARKET_DATA\\\\NASDAQ_FB.csv',\n",
       " '.\\\\MARKET_DATA\\\\NASDAQ_GOOGL.csv',\n",
       " '.\\\\MARKET_DATA\\\\NASDAQ_MSFT.csv']"
      ]
     },
     "execution_count": 14,
     "metadata": {},
     "output_type": "execute_result"
    }
   ],
   "source": [
    "listOfFile "
   ]
  },
  {
   "cell_type": "code",
   "execution_count": 15,
   "metadata": {},
   "outputs": [],
   "source": [
    "# Initialize list\n",
    "full_list = []\n",
    "# Loop on all files\n",
    "for file in listOfFile:\n",
    "    # Import data to a Dataframe\n",
    "    full_file = pd.read_csv(file, dtype = str).reset_index(drop = True)\n",
    "    # Assign the file path to the file_name columns\n",
    "    full_file['file_name']=os.path.basename(file)\n",
    "    # Append the DataFrame to the list initialized\n",
    "    full_list.append(full_file)\n",
    "# Merge the list of DataFrames to a single DataFrame\n",
    "fileConcat = pd.concat(full_list)\n"
   ]
  },
  {
   "cell_type": "code",
   "execution_count": 18,
   "metadata": {},
   "outputs": [
    {
     "data": {
      "text/html": [
       "<div>\n",
       "<style scoped>\n",
       "    .dataframe tbody tr th:only-of-type {\n",
       "        vertical-align: middle;\n",
       "    }\n",
       "\n",
       "    .dataframe tbody tr th {\n",
       "        vertical-align: top;\n",
       "    }\n",
       "\n",
       "    .dataframe thead th {\n",
       "        text-align: right;\n",
       "    }\n",
       "</style>\n",
       "<table border=\"1\" class=\"dataframe\">\n",
       "  <thead>\n",
       "    <tr style=\"text-align: right;\">\n",
       "      <th></th>\n",
       "      <th>Ticker</th>\n",
       "      <th>Company</th>\n",
       "      <th>Industry</th>\n",
       "      <th>Market Cap</th>\n",
       "      <th>Share_Price</th>\n",
       "      <th>Description</th>\n",
       "      <th>file_name</th>\n",
       "    </tr>\n",
       "  </thead>\n",
       "  <tbody>\n",
       "    <tr>\n",
       "      <th>0</th>\n",
       "      <td>MSFT</td>\n",
       "      <td>Microsoft Corporation</td>\n",
       "      <td>Technology</td>\n",
       "      <td>Trillion Dollars</td>\n",
       "      <td>300.0</td>\n",
       "      <td>Share price for Microsoft Corporation in Septe...</td>\n",
       "      <td>NASDAQ_MSFT.csv</td>\n",
       "    </tr>\n",
       "  </tbody>\n",
       "</table>\n",
       "</div>"
      ],
      "text/plain": [
       "  Ticker                Company    Industry        Market Cap Share_Price  \\\n",
       "0   MSFT  Microsoft Corporation  Technology  Trillion Dollars       300.0   \n",
       "\n",
       "                                         Description        file_name  \n",
       "0  Share price for Microsoft Corporation in Septe...  NASDAQ_MSFT.csv  "
      ]
     },
     "execution_count": 18,
     "metadata": {},
     "output_type": "execute_result"
    }
   ],
   "source": [
    "full_file"
   ]
  },
  {
   "cell_type": "code",
   "execution_count": 69,
   "metadata": {},
   "outputs": [
    {
     "data": {
      "text/html": [
       "<div>\n",
       "<style scoped>\n",
       "    .dataframe tbody tr th:only-of-type {\n",
       "        vertical-align: middle;\n",
       "    }\n",
       "\n",
       "    .dataframe tbody tr th {\n",
       "        vertical-align: top;\n",
       "    }\n",
       "\n",
       "    .dataframe thead th {\n",
       "        text-align: right;\n",
       "    }\n",
       "</style>\n",
       "<table border=\"1\" class=\"dataframe\">\n",
       "  <thead>\n",
       "    <tr style=\"text-align: right;\">\n",
       "      <th></th>\n",
       "      <th>Ticker</th>\n",
       "      <th>Company</th>\n",
       "      <th>Industry</th>\n",
       "      <th>Market Cap</th>\n",
       "      <th>Share_Price</th>\n",
       "      <th>Description</th>\n",
       "      <th>file_name</th>\n",
       "    </tr>\n",
       "  </thead>\n",
       "  <tbody>\n",
       "    <tr>\n",
       "      <th>0</th>\n",
       "      <td>AAPL</td>\n",
       "      <td>Apple Inc.</td>\n",
       "      <td>Technology</td>\n",
       "      <td>Trillion Dollars</td>\n",
       "      <td>150.0</td>\n",
       "      <td>Share price for Apple Inc. in September 2021</td>\n",
       "      <td>NASDAQ_AAPL.csv</td>\n",
       "    </tr>\n",
       "    <tr>\n",
       "      <th>0</th>\n",
       "      <td>AMZN</td>\n",
       "      <td>Amazon.com Inc.</td>\n",
       "      <td>E-commerce</td>\n",
       "      <td>Trillion Dollars</td>\n",
       "      <td>3400.0</td>\n",
       "      <td>Share price for Amazon.com Inc. in September 2021</td>\n",
       "      <td>NASDAQ_AMZN.csv</td>\n",
       "    </tr>\n",
       "    <tr>\n",
       "      <th>0</th>\n",
       "      <td>FB</td>\n",
       "      <td>Meta Platforms, Inc. (Facebook)</td>\n",
       "      <td>Social Media</td>\n",
       "      <td>Trillion Dollars</td>\n",
       "      <td>330.0</td>\n",
       "      <td>Share price for Meta Platforms, Inc. in Septem...</td>\n",
       "      <td>NASDAQ_FB.csv</td>\n",
       "    </tr>\n",
       "    <tr>\n",
       "      <th>0</th>\n",
       "      <td>GOOGL</td>\n",
       "      <td>Alphabet Inc. (Google)</td>\n",
       "      <td>Technology</td>\n",
       "      <td>Trillion Dollars</td>\n",
       "      <td>2700.0</td>\n",
       "      <td>Share price for Alphabet Inc. in September 2021</td>\n",
       "      <td>NASDAQ_GOOGL.csv</td>\n",
       "    </tr>\n",
       "    <tr>\n",
       "      <th>0</th>\n",
       "      <td>MSFT</td>\n",
       "      <td>Microsoft Corporation</td>\n",
       "      <td>Technology</td>\n",
       "      <td>Trillion Dollars</td>\n",
       "      <td>300.0</td>\n",
       "      <td>Share price for Microsoft Corporation in Septe...</td>\n",
       "      <td>NASDAQ_MSFT.csv</td>\n",
       "    </tr>\n",
       "  </tbody>\n",
       "</table>\n",
       "</div>"
      ],
      "text/plain": [
       "  Ticker                          Company      Industry        Market Cap  \\\n",
       "0   AAPL                       Apple Inc.    Technology  Trillion Dollars   \n",
       "0   AMZN                  Amazon.com Inc.    E-commerce  Trillion Dollars   \n",
       "0     FB  Meta Platforms, Inc. (Facebook)  Social Media  Trillion Dollars   \n",
       "0  GOOGL           Alphabet Inc. (Google)    Technology  Trillion Dollars   \n",
       "0   MSFT            Microsoft Corporation    Technology  Trillion Dollars   \n",
       "\n",
       "  Share_Price                                        Description  \\\n",
       "0       150.0       Share price for Apple Inc. in September 2021   \n",
       "0      3400.0  Share price for Amazon.com Inc. in September 2021   \n",
       "0       330.0  Share price for Meta Platforms, Inc. in Septem...   \n",
       "0      2700.0    Share price for Alphabet Inc. in September 2021   \n",
       "0       300.0  Share price for Microsoft Corporation in Septe...   \n",
       "\n",
       "          file_name  \n",
       "0   NASDAQ_AAPL.csv  \n",
       "0   NASDAQ_AMZN.csv  \n",
       "0     NASDAQ_FB.csv  \n",
       "0  NASDAQ_GOOGL.csv  \n",
       "0   NASDAQ_MSFT.csv  "
      ]
     },
     "execution_count": 69,
     "metadata": {},
     "output_type": "execute_result"
    }
   ],
   "source": [
    "fileConcat"
   ]
  }
 ],
 "metadata": {
  "kernelspec": {
   "display_name": "Python 3",
   "language": "python",
   "name": "python3"
  },
  "language_info": {
   "codemirror_mode": {
    "name": "ipython",
    "version": 3
   },
   "file_extension": ".py",
   "mimetype": "text/x-python",
   "name": "python",
   "nbconvert_exporter": "python",
   "pygments_lexer": "ipython3",
   "version": "3.11.5"
  }
 },
 "nbformat": 4,
 "nbformat_minor": 2
}
